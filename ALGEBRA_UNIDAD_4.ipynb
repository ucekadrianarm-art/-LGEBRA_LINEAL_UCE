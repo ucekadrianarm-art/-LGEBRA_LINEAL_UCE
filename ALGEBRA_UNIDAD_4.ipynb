{
  "nbformat": 4,
  "nbformat_minor": 0,
  "metadata": {
    "colab": {
      "provenance": [],
      "include_colab_link": true
    },
    "kernelspec": {
      "name": "python3",
      "display_name": "Python 3"
    },
    "language_info": {
      "name": "python"
    }
  },
  "cells": [
    {
      "cell_type": "markdown",
      "metadata": {
        "id": "view-in-github",
        "colab_type": "text"
      },
      "source": [
        "<a href=\"https://colab.research.google.com/github/ucekadrianarm-art/-LGEBRA_LINEAL_UCE/blob/main/ALGEBRA_UNIDAD_4.ipynb\" target=\"_parent\"><img src=\"https://colab.research.google.com/assets/colab-badge.svg\" alt=\"Open In Colab\"/></a>"
      ]
    },
    {
      "cell_type": "markdown",
      "metadata": {
        "id": "d5644844"
      },
      "source": [
        "# Espacios vectoriales"
      ]
    },
    {
      "cell_type": "markdown",
      "metadata": {
        "id": "e51deba1"
      },
      "source": [
        "## Espacios vectoriales\n",
        "\n",
        "Un espacio vectorial es una estructura algebraica que se define sobre un conjunto no vacío, junto con dos operaciones:\n",
        "\n",
        "1.  **Suma de vectores:** Una operación interna que a cada par de vectores del conjunto le asigna otro vector del mismo conjunto.\n",
        "2.  **Multiplicación por un escalar:** Una operación externa que a cada escalar (elemento de un cuerpo, como los números reales o complejos) y a cada vector del conjunto le asigna otro vector del mismo conjunto.\n",
        "\n",
        "Estas operaciones deben cumplir una serie de propiedades (o axiomas):\n",
        "\n",
        "*   **Asociatividad de la suma:** Para todo u, v, w en V, (u + v) + w = u + (v + w).\n",
        "*   **Conmutatividad de la suma:** Para todo u, v en V, u + v = v + u.\n",
        "*   **Existencia de un elemento neutro (vector cero):** Existe un vector 0 en V tal que para todo v en V, v + 0 = v.\n",
        "*   **Existencia de un elemento opuesto (vector inverso aditivo):** Para cada v en V, existe un vector -v en V tal que v + (-v) = 0.\n",
        "*   **Distributividad de la multiplicación por un escalar respecto a la suma de vectores:** Para todo a en K y todo u, v en V, a(u + v) = au + av.\n",
        "*   **Distributividad de la multiplicación por un escalar respecto a la suma de escalares:** Para todo a, b en K y todo v en V, (a + b)v = av + bv.\n",
        "*   **Asociatividad de la multiplicación por escalares:** Para todo a, b en K y todo v en V, a(bv) = (ab)v.\n",
        "*   **Existencia de un elemento neutro para la multiplicación por escalares:** Para el escalar unitario 1 en K, y todo v en V, 1v = v.\n",
        "\n",
        "En resumen, un espacio vectorial es un conjunto de objetos (vectores) que pueden ser sumados entre sí y multiplicados por escalares, siguiendo ciertas reglas que generalizan las propiedades de las operaciones con vectores en el plano o en el espacio tridimensional.\n",
        "\n",
        "Ejemplos comunes de espacios vectoriales incluyen:\n",
        "\n",
        "*   El conjunto de los vectores en el plano ($\\mathbb{R}^2$).\n",
        "*   El conjunto de los vectores en el espacio tridimensional ($\\mathbb{R}^3$).\n",
        "*   El conjunto de las matrices de un tamaño fijo ($M_{m \\times n}$).\n",
        "*   El conjunto de los polinomios de grado menor o igual a n ($P_n$).\n",
        "*   El conjunto de las funciones reales de variable real continuas en un intervalo."
      ]
    },
    {
      "cell_type": "code",
      "metadata": {
        "colab": {
          "base_uri": "https://localhost:8080/"
        },
        "id": "2557237e",
        "outputId": "375fd623-3d78-4df3-f441-69d477c2cd5a"
      },
      "source": [
        "import numpy as np\n",
        "\n",
        "# Definimos dos vectores en R^3\n",
        "vector1 = np.array([1, 2, 3])\n",
        "vector2 = np.array([4, 5, 6])\n",
        "\n",
        "# Mostramos los vectores\n",
        "print(\"Vector 1:\", vector1)\n",
        "print(\"Vector 2:\", vector2)\n",
        "\n",
        "# Ejemplo de suma de vectores\n",
        "suma_vectores = vector1 + vector2\n",
        "print(\"Suma de los vectores:\", suma_vectores)\n",
        "\n",
        "# Ejemplo de multiplicación por un escalar\n",
        "escalar = 2\n",
        "vector1_escalado = escalar * vector1\n",
        "print(\"Vector 1 escalado por\", escalar, \":\", vector1_escalado)"
      ],
      "execution_count": 1,
      "outputs": [
        {
          "output_type": "stream",
          "name": "stdout",
          "text": [
            "Vector 1: [1 2 3]\n",
            "Vector 2: [4 5 6]\n",
            "Suma de los vectores: [5 7 9]\n",
            "Vector 1 escalado por 2 : [2 4 6]\n"
          ]
        }
      ]
    },
    {
      "cell_type": "code",
      "metadata": {
        "colab": {
          "base_uri": "https://localhost:8080/"
        },
        "id": "851dc18a",
        "outputId": "fdab064b-6c4a-4166-a16e-941304d4b4c6"
      },
      "source": [
        "import numpy as np\n",
        "\n",
        "# Definimos el conjunto de vectores\n",
        "vector1 = np.array([1, 0])\n",
        "vector2 = np.array([0, 1])\n",
        "\n",
        "# Sumamos los dos vectores\n",
        "suma = vector1 + vector2\n",
        "\n",
        "print(\"Vector 1:\", vector1)\n",
        "print(\"Vector 2:\", vector2)\n",
        "print(\"Suma:\", suma)\n",
        "\n",
        "# Verificamos si la suma está en el conjunto original\n",
        "if np.array_equal(suma, vector1) or np.array_equal(suma, vector2):\n",
        "    print(\"La suma de los vectores está en el conjunto S.\")\n",
        "else:\n",
        "    print(\"La suma de los vectores NO está en el conjunto S.\")\n",
        "    print(\"Por lo tanto, el conjunto S no es cerrado bajo la suma y no forma un espacio vectorial.\")"
      ],
      "execution_count": 2,
      "outputs": [
        {
          "output_type": "stream",
          "name": "stdout",
          "text": [
            "Vector 1: [1 0]\n",
            "Vector 2: [0 1]\n",
            "Suma: [1 1]\n",
            "La suma de los vectores NO está en el conjunto S.\n",
            "Por lo tanto, el conjunto S no es cerrado bajo la suma y no forma un espacio vectorial.\n"
          ]
        }
      ]
    }
  ]
}