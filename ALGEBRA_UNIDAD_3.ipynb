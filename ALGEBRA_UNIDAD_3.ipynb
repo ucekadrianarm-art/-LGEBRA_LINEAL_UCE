{
  "nbformat": 4,
  "nbformat_minor": 0,
  "metadata": {
    "colab": {
      "provenance": [],
      "include_colab_link": true
    },
    "kernelspec": {
      "name": "python3",
      "display_name": "Python 3"
    },
    "language_info": {
      "name": "python"
    }
  },
  "cells": [
    {
      "cell_type": "markdown",
      "metadata": {
        "id": "view-in-github",
        "colab_type": "text"
      },
      "source": [
        "<a href=\"https://colab.research.google.com/github/ucekadrianarm-art/-LGEBRA_LINEAL_UCE/blob/main/ALGEBRA_UNIDAD_3.ipynb\" target=\"_parent\"><img src=\"https://colab.research.google.com/assets/colab-badge.svg\" alt=\"Open In Colab\"/></a>"
      ]
    },
    {
      "cell_type": "markdown",
      "metadata": {
        "id": "d5644844"
      },
      "source": [
        "# Cáculo de la matriz transpuesta, adjunta e inversa"
      ]
    },
    {
      "cell_type": "markdown",
      "metadata": {
        "id": "31cd4a62"
      },
      "source": [
        "## Matriz Transpuesta\n",
        "\n",
        "La matriz transpuesta de una matriz $A$, denotada por $A^T$ o $A'$, es una matriz obtenida al cambiar sus filas por columnas y sus columnas por filas.\n",
        "\n",
        "Si $A$ es una matriz de $m \\times n$, entonces $A^T$ es una matriz de $n \\times m$. Formalmente, si $A = (a_{ij})$, entonces $A^T = (a_{ji})$.\n",
        "\n",
        "**Ejemplo:**\n",
        "\n",
        "Si\n",
        "$$\n",
        "A = \\begin{pmatrix}\n",
        "1 & 2 & 3 \\\\\n",
        "4 & 5 & 6\n",
        "\\end{pmatrix}\n",
        "$$\n",
        "Entonces\n",
        "$$\n",
        "A^T = \\begin{pmatrix}\n",
        "1 & 4 \\\\\n",
        "2 & 5 \\\\\n",
        "3 & 6\n",
        "\\end{pmatrix}\n",
        "$$\n",
        "\n",
        "**Propiedades de la matriz transpuesta:**\n",
        "\n",
        "* $(A^T)^T = A$\n",
        "* $(A + B)^T = A^T + B^T$\n",
        "* $(\\alpha A)^T = \\alpha A^T$, donde $\\alpha$ es un escalar.\n",
        "* $(AB)^T = B^T A^T$"
      ]
    },
    {
      "cell_type": "code",
      "metadata": {
        "colab": {
          "base_uri": "https://localhost:8080/"
        },
        "id": "3df9ccc2",
        "outputId": "554dff1b-cc93-4e52-d326-871a77885179"
      },
      "source": [
        "import numpy as np\n",
        "\n",
        "# Crear una matriz de ejemplo de n x m (por ejemplo, 2x3)\n",
        "A = np.array([[1, 2, 3],\n",
        "              [4, 5, 6]])\n",
        "\n",
        "print(\"Matriz original ({}x{}):\".format(A.shape[0], A.shape[1]))\n",
        "print(A)\n",
        "\n",
        "# Calcular la matriz transpuesta\n",
        "A_T = A.T\n",
        "\n",
        "print(\"\\nMatriz transpuesta ({}x{}):\".format(A_T.shape[0], A_T.shape[1]))\n",
        "print(A_T)\n",
        "\n",
        "# Puedes cambiar las dimensiones de la matriz para probar\n",
        "# A = np.array([[1, 2, 3, 4], [5, 6, 7, 8], [9, 10, 11, 12]]) # Ejemplo de matriz 3x4\n",
        "# A = np.array([[1, 2], [3, 4], [5, 6], [7, 8]]) # Ejemplo de matriz 4x2"
      ],
      "execution_count": 1,
      "outputs": [
        {
          "output_type": "stream",
          "name": "stdout",
          "text": [
            "Matriz original (2x3):\n",
            "[[1 2 3]\n",
            " [4 5 6]]\n",
            "\n",
            "Matriz transpuesta (3x2):\n",
            "[[1 4]\n",
            " [2 5]\n",
            " [3 6]]\n"
          ]
        }
      ]
    },
    {
      "cell_type": "markdown",
      "metadata": {
        "id": "0bfa340c"
      },
      "source": [
        "## Matriz Adjunta\n",
        "\n",
        "La matriz adjunta de una matriz cuadrada $A$, denotada por $\\text{adj}(A)$, es la transpuesta de la matriz de cofactores de $A$.\n",
        "\n",
        "La matriz de cofactores se obtiene reemplazando cada elemento $a_{ij}$ de la matriz original por su cofactor $C_{ij}$, donde el cofactor se calcula como $C_{ij} = (-1)^{i+j} M_{ij}$. $M_{ij}$ es el menor, que es el determinante de la submatriz que resulta de eliminar la fila $i$ y la columna $j$.\n",
        "\n",
        "Formalmente: $\\text{adj}(A) = (C_{ij})^T$\n",
        "\n",
        "**Ejemplo para una matriz 2x2:**\n",
        "\n",
        "Si\n",
        "$$\n",
        "A = \\begin{pmatrix}\n",
        "a & b \\\\\n",
        "c & d\n",
        "\\end{pmatrix}\n",
        "$$\n",
        "\n",
        "La matriz de cofactores es:\n",
        "$$\n",
        "\\begin{pmatrix}\n",
        "d & -c \\\\\n",
        "-b & a\n",
        "\\end{pmatrix}\n",
        "$$\n",
        "\n",
        "La matriz adjunta es la transpuesta de la matriz de cofactores:\n",
        "$$\n",
        "\\text{adj}(A) = \\begin{pmatrix}\n",
        "d & -b \\\\\n",
        "-c & a\n",
        "\\end{pmatrix}\n",
        "$$"
      ]
    },
    {
      "cell_type": "code",
      "metadata": {
        "colab": {
          "base_uri": "https://localhost:8080/"
        },
        "id": "7fe23d4a",
        "outputId": "2b843d96-ea09-4b0c-ef29-6807e7020d23"
      },
      "source": [
        "import numpy as np\n",
        "\n",
        "# Función para calcular el determinante de una matriz 2x2\n",
        "def determinante_2x2(matrix):\n",
        "    return matrix[0, 0] * matrix[1, 1] - matrix[0, 1] * matrix[1, 0]\n",
        "\n",
        "# Función para obtener la submatriz (para calcular menores)\n",
        "def obtener_submatriz(matrix, fila, columna):\n",
        "    return np.delete(np.delete(matrix, fila, axis=0), columna, axis=1)\n",
        "\n",
        "# Crear una matriz de ejemplo 3x3\n",
        "A = np.array([[1, 2, 3],\n",
        "              [4, 5, 6],\n",
        "              [7, 8, 9]])\n",
        "\n",
        "print(\"Matriz original:\")\n",
        "print(A)\n",
        "\n",
        "# Calcular la matriz de cofactores\n",
        "cofactor_matrix = np.zeros_like(A, dtype=float)\n",
        "\n",
        "for i in range(A.shape[0]):\n",
        "    for j in range(A.shape[1]):\n",
        "        # Obtener la submatriz\n",
        "        submatrix = obtener_submatriz(A, i, j)\n",
        "\n",
        "        # Calcular el menor (determinante de la submatriz)\n",
        "        if submatrix.shape == (2, 2):\n",
        "             menor = determinante_2x2(submatrix)\n",
        "        else:\n",
        "             # Para matrices de tamaño > 2x2, se necesitaría una función de determinante general\n",
        "             # Para este ejemplo 3x3, solo necesitamos el caso 2x2\n",
        "             pass # Esto no debería ocurrir para una matriz 3x3 al eliminar una fila y columna\n",
        "\n",
        "        # Calcular el cofactor\n",
        "        cofactor = ((-1)**(i + j)) * menor\n",
        "\n",
        "        # Asignar el cofactor a la matriz de cofactores\n",
        "        cofactor_matrix[i, j] = cofactor\n",
        "\n",
        "print(\"\\nMatriz de cofactores:\")\n",
        "print(cofactor_matrix)"
      ],
      "execution_count": 2,
      "outputs": [
        {
          "output_type": "stream",
          "name": "stdout",
          "text": [
            "Matriz original:\n",
            "[[1 2 3]\n",
            " [4 5 6]\n",
            " [7 8 9]]\n",
            "\n",
            "Matriz de cofactores:\n",
            "[[ -3.   6.  -3.]\n",
            " [  6. -12.   6.]\n",
            " [ -3.   6.  -3.]]\n"
          ]
        }
      ]
    },
    {
      "cell_type": "markdown",
      "source": [],
      "metadata": {
        "id": "NfW_3O2tkrA8"
      }
    },
    {
      "cell_type": "markdown",
      "metadata": {
        "id": "bb617934"
      },
      "source": [
        "## Matriz Inversa a través de la Adjunta\n",
        "\n",
        "Una matriz cuadrada $A$ tiene una inversa, denotada por $A^{-1}$, si y solo si su determinante ($\\det(A)$) no es cero. Si el determinante es cero, la matriz es singular y no tiene inversa.\n",
        "\n",
        "Cuando una matriz $A$ es invertible, su inversa $A^{-1}$ se puede calcular utilizando la matriz adjunta de la siguiente manera:\n",
        "\n",
        "$$\n",
        "A^{-1} = \\frac{1}{\\det(A)} \\text{adj}(A)\n",
        "$$\n",
        "\n",
        "Donde:\n",
        "* $A^{-1}$ es la matriz inversa de $A$.\n",
        "* $\\det(A)$ es el determinante de la matriz $A$.\n",
        "* $\\text{adj}(A)$ es la matriz adjunta de $A$ (la transpuesta de la matriz de cofactores).\n",
        "\n",
        "Para calcular la matriz inversa usando este método, se siguen los siguientes pasos:\n",
        "\n",
        "1. **Calcular el determinante de la matriz A.** Si $\\det(A) = 0$, la matriz no tiene inversa.\n",
        "2. **Calcular la matriz de cofactores de A.** Reemplazar cada elemento $a_{ij}$ por su cofactor $C_{ij}$.\n",
        "3. **Calcular la matriz adjunta de A.** Transponer la matriz de cofactores.\n",
        "4. **Multiplicar la matriz adjunta por el inverso del determinante.** Dividir cada elemento de la matriz adjunta por el determinante de $A$.\n",
        "\n",
        "Este método es conceptualmente importante y útil para matrices pequeñas (como 2x2 o 3x3). Para matrices más grandes, existen métodos computacionalmente más eficientes para encontrar la inversa."
      ]
    },
    {
      "cell_type": "code",
      "source": [],
      "metadata": {
        "id": "Bt0dhYn9k6f3"
      },
      "execution_count": null,
      "outputs": []
    },
    {
      "cell_type": "code",
      "metadata": {
        "colab": {
          "base_uri": "https://localhost:8080/",
          "height": 479
        },
        "id": "8fba3c14",
        "outputId": "5f8c2e72-bb3b-441e-a303-5a87b6f52673"
      },
      "source": [
        "import numpy as np\n",
        "\n",
        "# Función para calcular el determinante de una matriz 2x2 (reutilizada del código anterior)\n",
        "def determinante_2x2(matrix):\n",
        "    return matrix[0, 0] * matrix[1, 1] - matrix[0, 1] * matrix[1, 0]\n",
        "\n",
        "# Función para obtener la submatriz (para calcular menores) (reutilizada del código anterior)\n",
        "def obtener_submatriz(matrix, fila, columna):\n",
        "    return np.delete(np.delete(matrix, fila, axis=0), columna, axis=1)\n",
        "\n",
        "# Función para calcular el determinante de una matriz 3x3\n",
        "def determinante_3x3(matrix):\n",
        "    det = 0\n",
        "    for j in range(matrix.shape[1]):\n",
        "        det += ((-1)**j) * matrix[0, j] * determinante_2x2(obtener_submatriz(matrix, 0, j))\n",
        "    return det\n",
        "\n",
        "# Función para calcular la matriz de cofactores de una matriz 3x3\n",
        "def matriz_cofactores_3x3(matrix):\n",
        "    cofactor_matrix = np.zeros_like(matrix, dtype=float)\n",
        "    for i in range(matrix.shape[0]):\n",
        "        for j in range(matrix.shape[1]):\n",
        "            submatrix = obtener_submatriz(matrix, i, j)\n",
        "            menor = determinante_2x2(submatrix)\n",
        "            cofactor = ((-1)**(i + j)) * menor\n",
        "            cofactor_matrix[i, j] = cofactor\n",
        "    return cofactor_matrix\n",
        "\n",
        "# Crear una matriz de ejemplo 3x3 (cambia los valores si quieres probar con otra matriz)\n",
        "A = np.array([[1, 2, 3],\n",
        "              [0, 1, 4],\n",
        "              [5, 6, 0]])\n",
        "\n",
        "print(\"Matriz original:\")\n",
        "display(A)\n",
        "\n",
        "# 1. Calcular el determinante de A\n",
        "det_A = determinante_3x3(A)\n",
        "print(f\"\\nDeterminante de A: {det_A}\")\n",
        "\n",
        "# Verificar si la matriz es invertible\n",
        "if det_A == 0:\n",
        "    print(\"\\nLa matriz no tiene inversa ya que su determinante es cero.\")\n",
        "else:\n",
        "    # 2. Calcular la matriz de cofactores de A\n",
        "    cofactor_A = matriz_cofactores_3x3(A)\n",
        "    print(\"\\nMatriz de cofactores de A:\")\n",
        "    display(cofactor_A)\n",
        "\n",
        "    # 3. Calcular la matriz adjunta de A (transpuesta de la matriz de cofactores)\n",
        "    adj_A = cofactor_A.T\n",
        "    print(\"\\nMatriz adjunta de A:\")\n",
        "    display(adj_A)\n",
        "\n",
        "    # 4. Calcular la matriz inversa de A\n",
        "    A_inv = (1 / det_A) * adj_A\n",
        "    print(\"\\nMatriz inversa de A:\")\n",
        "    display(A_inv)\n",
        "\n",
        "    # Opcional: Verificar la inversa (A * A_inv debería ser la matriz identidad)\n",
        "    identidad = np.dot(A, A_inv)\n",
        "    print(\"\\nVerificación (A * A_inv):\")\n",
        "    display(identidad)"
      ],
      "execution_count": 3,
      "outputs": [
        {
          "output_type": "stream",
          "name": "stdout",
          "text": [
            "Matriz original:\n"
          ]
        },
        {
          "output_type": "display_data",
          "data": {
            "text/plain": [
              "array([[1, 2, 3],\n",
              "       [0, 1, 4],\n",
              "       [5, 6, 0]])"
            ]
          },
          "metadata": {}
        },
        {
          "output_type": "stream",
          "name": "stdout",
          "text": [
            "\n",
            "Determinante de A: 1\n",
            "\n",
            "Matriz de cofactores de A:\n"
          ]
        },
        {
          "output_type": "display_data",
          "data": {
            "text/plain": [
              "array([[-24.,  20.,  -5.],\n",
              "       [ 18., -15.,   4.],\n",
              "       [  5.,  -4.,   1.]])"
            ]
          },
          "metadata": {}
        },
        {
          "output_type": "stream",
          "name": "stdout",
          "text": [
            "\n",
            "Matriz adjunta de A:\n"
          ]
        },
        {
          "output_type": "display_data",
          "data": {
            "text/plain": [
              "array([[-24.,  18.,   5.],\n",
              "       [ 20., -15.,  -4.],\n",
              "       [ -5.,   4.,   1.]])"
            ]
          },
          "metadata": {}
        },
        {
          "output_type": "stream",
          "name": "stdout",
          "text": [
            "\n",
            "Matriz inversa de A:\n"
          ]
        },
        {
          "output_type": "display_data",
          "data": {
            "text/plain": [
              "array([[-24.,  18.,   5.],\n",
              "       [ 20., -15.,  -4.],\n",
              "       [ -5.,   4.,   1.]])"
            ]
          },
          "metadata": {}
        },
        {
          "output_type": "stream",
          "name": "stdout",
          "text": [
            "\n",
            "Verificación (A * A_inv):\n"
          ]
        },
        {
          "output_type": "display_data",
          "data": {
            "text/plain": [
              "array([[1., 0., 0.],\n",
              "       [0., 1., 0.],\n",
              "       [0., 0., 1.]])"
            ]
          },
          "metadata": {}
        }
      ]
    }
  ]
}